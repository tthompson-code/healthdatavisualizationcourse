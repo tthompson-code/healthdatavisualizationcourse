{
  "nbformat": 4,
  "nbformat_minor": 0,
  "metadata": {
    "colab": {
      "provenance": [],
      "authorship_tag": "ABX9TyOn5BfL3GoThgCMV4FRiCBR",
      "include_colab_link": true
    },
    "kernelspec": {
      "name": "python3",
      "display_name": "Python 3"
    },
    "language_info": {
      "name": "python"
    }
  },
  "cells": [
    {
      "cell_type": "markdown",
      "metadata": {
        "id": "view-in-github",
        "colab_type": "text"
      },
      "source": [
        "<a href=\"https://colab.research.google.com/github/tthompson-code/healthdatavisualizationcourse/blob/main/Datathon_4_Stacked_Area_Chart.ipynb\" target=\"_parent\"><img src=\"https://colab.research.google.com/assets/colab-badge.svg\" alt=\"Open In Colab\"/></a>"
      ]
    },
    {
      "cell_type": "code",
      "execution_count": 77,
      "metadata": {
        "colab": {
          "base_uri": "https://localhost:8080/",
          "height": 74
        },
        "id": "DPzaG-aiu7Pt",
        "outputId": "4dc9d40e-d386-4e15-de80-9470a61835dd"
      },
      "outputs": [
        {
          "output_type": "display_data",
          "data": {
            "text/plain": [
              "<IPython.core.display.HTML object>"
            ],
            "text/html": [
              "\n",
              "     <input type=\"file\" id=\"files-a393c5df-6e3a-4012-a75d-cd67cf19d82f\" name=\"files[]\" multiple disabled\n",
              "        style=\"border:none\" />\n",
              "     <output id=\"result-a393c5df-6e3a-4012-a75d-cd67cf19d82f\">\n",
              "      Upload widget is only available when the cell has been executed in the\n",
              "      current browser session. Please rerun this cell to enable.\n",
              "      </output>\n",
              "      <script>// Copyright 2017 Google LLC\n",
              "//\n",
              "// Licensed under the Apache License, Version 2.0 (the \"License\");\n",
              "// you may not use this file except in compliance with the License.\n",
              "// You may obtain a copy of the License at\n",
              "//\n",
              "//      http://www.apache.org/licenses/LICENSE-2.0\n",
              "//\n",
              "// Unless required by applicable law or agreed to in writing, software\n",
              "// distributed under the License is distributed on an \"AS IS\" BASIS,\n",
              "// WITHOUT WARRANTIES OR CONDITIONS OF ANY KIND, either express or implied.\n",
              "// See the License for the specific language governing permissions and\n",
              "// limitations under the License.\n",
              "\n",
              "/**\n",
              " * @fileoverview Helpers for google.colab Python module.\n",
              " */\n",
              "(function(scope) {\n",
              "function span(text, styleAttributes = {}) {\n",
              "  const element = document.createElement('span');\n",
              "  element.textContent = text;\n",
              "  for (const key of Object.keys(styleAttributes)) {\n",
              "    element.style[key] = styleAttributes[key];\n",
              "  }\n",
              "  return element;\n",
              "}\n",
              "\n",
              "// Max number of bytes which will be uploaded at a time.\n",
              "const MAX_PAYLOAD_SIZE = 100 * 1024;\n",
              "\n",
              "function _uploadFiles(inputId, outputId) {\n",
              "  const steps = uploadFilesStep(inputId, outputId);\n",
              "  const outputElement = document.getElementById(outputId);\n",
              "  // Cache steps on the outputElement to make it available for the next call\n",
              "  // to uploadFilesContinue from Python.\n",
              "  outputElement.steps = steps;\n",
              "\n",
              "  return _uploadFilesContinue(outputId);\n",
              "}\n",
              "\n",
              "// This is roughly an async generator (not supported in the browser yet),\n",
              "// where there are multiple asynchronous steps and the Python side is going\n",
              "// to poll for completion of each step.\n",
              "// This uses a Promise to block the python side on completion of each step,\n",
              "// then passes the result of the previous step as the input to the next step.\n",
              "function _uploadFilesContinue(outputId) {\n",
              "  const outputElement = document.getElementById(outputId);\n",
              "  const steps = outputElement.steps;\n",
              "\n",
              "  const next = steps.next(outputElement.lastPromiseValue);\n",
              "  return Promise.resolve(next.value.promise).then((value) => {\n",
              "    // Cache the last promise value to make it available to the next\n",
              "    // step of the generator.\n",
              "    outputElement.lastPromiseValue = value;\n",
              "    return next.value.response;\n",
              "  });\n",
              "}\n",
              "\n",
              "/**\n",
              " * Generator function which is called between each async step of the upload\n",
              " * process.\n",
              " * @param {string} inputId Element ID of the input file picker element.\n",
              " * @param {string} outputId Element ID of the output display.\n",
              " * @return {!Iterable<!Object>} Iterable of next steps.\n",
              " */\n",
              "function* uploadFilesStep(inputId, outputId) {\n",
              "  const inputElement = document.getElementById(inputId);\n",
              "  inputElement.disabled = false;\n",
              "\n",
              "  const outputElement = document.getElementById(outputId);\n",
              "  outputElement.innerHTML = '';\n",
              "\n",
              "  const pickedPromise = new Promise((resolve) => {\n",
              "    inputElement.addEventListener('change', (e) => {\n",
              "      resolve(e.target.files);\n",
              "    });\n",
              "  });\n",
              "\n",
              "  const cancel = document.createElement('button');\n",
              "  inputElement.parentElement.appendChild(cancel);\n",
              "  cancel.textContent = 'Cancel upload';\n",
              "  const cancelPromise = new Promise((resolve) => {\n",
              "    cancel.onclick = () => {\n",
              "      resolve(null);\n",
              "    };\n",
              "  });\n",
              "\n",
              "  // Wait for the user to pick the files.\n",
              "  const files = yield {\n",
              "    promise: Promise.race([pickedPromise, cancelPromise]),\n",
              "    response: {\n",
              "      action: 'starting',\n",
              "    }\n",
              "  };\n",
              "\n",
              "  cancel.remove();\n",
              "\n",
              "  // Disable the input element since further picks are not allowed.\n",
              "  inputElement.disabled = true;\n",
              "\n",
              "  if (!files) {\n",
              "    return {\n",
              "      response: {\n",
              "        action: 'complete',\n",
              "      }\n",
              "    };\n",
              "  }\n",
              "\n",
              "  for (const file of files) {\n",
              "    const li = document.createElement('li');\n",
              "    li.append(span(file.name, {fontWeight: 'bold'}));\n",
              "    li.append(span(\n",
              "        `(${file.type || 'n/a'}) - ${file.size} bytes, ` +\n",
              "        `last modified: ${\n",
              "            file.lastModifiedDate ? file.lastModifiedDate.toLocaleDateString() :\n",
              "                                    'n/a'} - `));\n",
              "    const percent = span('0% done');\n",
              "    li.appendChild(percent);\n",
              "\n",
              "    outputElement.appendChild(li);\n",
              "\n",
              "    const fileDataPromise = new Promise((resolve) => {\n",
              "      const reader = new FileReader();\n",
              "      reader.onload = (e) => {\n",
              "        resolve(e.target.result);\n",
              "      };\n",
              "      reader.readAsArrayBuffer(file);\n",
              "    });\n",
              "    // Wait for the data to be ready.\n",
              "    let fileData = yield {\n",
              "      promise: fileDataPromise,\n",
              "      response: {\n",
              "        action: 'continue',\n",
              "      }\n",
              "    };\n",
              "\n",
              "    // Use a chunked sending to avoid message size limits. See b/62115660.\n",
              "    let position = 0;\n",
              "    do {\n",
              "      const length = Math.min(fileData.byteLength - position, MAX_PAYLOAD_SIZE);\n",
              "      const chunk = new Uint8Array(fileData, position, length);\n",
              "      position += length;\n",
              "\n",
              "      const base64 = btoa(String.fromCharCode.apply(null, chunk));\n",
              "      yield {\n",
              "        response: {\n",
              "          action: 'append',\n",
              "          file: file.name,\n",
              "          data: base64,\n",
              "        },\n",
              "      };\n",
              "\n",
              "      let percentDone = fileData.byteLength === 0 ?\n",
              "          100 :\n",
              "          Math.round((position / fileData.byteLength) * 100);\n",
              "      percent.textContent = `${percentDone}% done`;\n",
              "\n",
              "    } while (position < fileData.byteLength);\n",
              "  }\n",
              "\n",
              "  // All done.\n",
              "  yield {\n",
              "    response: {\n",
              "      action: 'complete',\n",
              "    }\n",
              "  };\n",
              "}\n",
              "\n",
              "scope.google = scope.google || {};\n",
              "scope.google.colab = scope.google.colab || {};\n",
              "scope.google.colab._files = {\n",
              "  _uploadFiles,\n",
              "  _uploadFilesContinue,\n",
              "};\n",
              "})(self);\n",
              "</script> "
            ]
          },
          "metadata": {}
        },
        {
          "output_type": "stream",
          "name": "stdout",
          "text": [
            "Saving BMI_filtered.csv to BMI_filtered (2).csv\n"
          ]
        }
      ],
      "source": [
        "import pandas as pd\n",
        "import altair as alt\n",
        "\n",
        "from google.colab import files\n",
        "uploaded = files.upload()\n",
        "\n",
        "import io\n"
      ]
    },
    {
      "cell_type": "code",
      "source": [
        "data = pd.read_csv(io.BytesIO(uploaded['BMI_filtered (2).csv']))\n",
        "\n",
        "data = data[['REF_DATE','BMI_clean','VALUE']]\n"
      ],
      "metadata": {
        "id": "gKk_Fqyp6pmP"
      },
      "execution_count": 114,
      "outputs": []
    },
    {
      "cell_type": "code",
      "source": [
        "print(data['REF_DATE'].unique())\n",
        "\n",
        "print(data['VALUE'].head())"
      ],
      "metadata": {
        "colab": {
          "base_uri": "https://localhost:8080/"
        },
        "id": "IKTz8ypa62mv",
        "outputId": "2ad27c5e-111e-4037-a0ab-8612a9339659"
      },
      "execution_count": 82,
      "outputs": [
        {
          "output_type": "stream",
          "name": "stdout",
          "text": [
            "['1994' '1996' '1998' '2000' '2003' '2005' '2007']\n",
            "0     2.7\n",
            "1    48.5\n",
            "2    34.7\n",
            "3    12.7\n",
            "4     1.3\n",
            "Name: VALUE, dtype: float64\n"
          ]
        }
      ]
    },
    {
      "cell_type": "code",
      "source": [
        "# Ensure REF_DATE is read as int64\n",
        "data['REF_DATE'] = data['REF_DATE'].astype(int)  # Just to be sure\n",
        "\n",
        "# Convert REF_DATE to a string to use it as a categorical axis\n",
        "data['REF_DATE'] = data['REF_DATE'].astype(str)  # Convert to string\n",
        "\n",
        "# Check the changes\n",
        "print(data[['REF_DATE', 'VALUE']].head())  # Ensure REF_DATE is now in string format\n",
        "\n",
        "# Define the desired order for BMI categories\n",
        "BMI_order = ['Underweight', 'Normal-weight', 'Overweight', 'Obese', 'Missing']\n",
        "\n",
        "# Convert BMI_clean to an ordered categorical variable\n",
        "data['BMI_clean'] = pd.Categorical(data['BMI_clean'], categories=BMI_order, ordered=True)\n",
        "\n"
      ],
      "metadata": {
        "colab": {
          "base_uri": "https://localhost:8080/"
        },
        "id": "qWJCAmIW8nf5",
        "outputId": "579fb658-9927-46a0-ab51-e85c9b7bf726"
      },
      "execution_count": 138,
      "outputs": [
        {
          "output_type": "stream",
          "name": "stdout",
          "text": [
            "  REF_DATE  VALUE\n",
            "0     1994    2.7\n",
            "1     1994   48.5\n",
            "2     1994   34.7\n",
            "3     1994   12.7\n",
            "4     1994    1.3\n"
          ]
        }
      ]
    },
    {
      "cell_type": "code",
      "source": [
        "# Create a dictionary mapping BMI categories to custom order values\n",
        "order_mapping = {category: i for i, category in enumerate(BMI_order)}\n",
        "\n",
        "# Add a new column to your DataFrame representing the custom order\n",
        "data['custom_order'] = data['BMI_clean'].map(order_mapping)\n"
      ],
      "metadata": {
        "id": "6SozElhpWtPq"
      },
      "execution_count": 141,
      "outputs": []
    },
    {
      "cell_type": "code",
      "source": [
        "BMI_areachart = alt.Chart(data).mark_area(opacity=.7).encode(\n",
        "    x=alt.X(\"REF_DATE:N\", title = \"Year\", axis=alt.Axis(labelAngle=0)),\n",
        "    y=alt.Y(\"VALUE:Q\", stack=True, title = \"Proportion of Canadians in BMI category (%)\", scale=alt.Scale(domain=[0, 100])),\n",
        "    color=alt.Color('BMI_clean:N', scale=alt.Scale(scheme='magma'), title='BMI Categories', sort=BMI_order),\n",
        "    order=alt.Order('custom_order:Q', sort='ascending'),\n",
        "    tooltip=[alt.Tooltip('REF_DATE:N', title='Year'), alt.Tooltip('VALUE:Q', title='Value')],\n",
        ").properties(\n",
        "    height=350,\n",
        "    width=700\n",
        ").configure_view(stroke='white')"
      ],
      "metadata": {
        "id": "8B9_-roI8rbS"
      },
      "execution_count": 154,
      "outputs": []
    },
    {
      "cell_type": "code",
      "source": [
        "BMI_areachart"
      ],
      "metadata": {
        "id": "ZB6ByF-1-8_5",
        "colab": {
          "base_uri": "https://localhost:8080/",
          "height": 474
        },
        "outputId": "f87af68d-0f48-4d7e-c15f-15d6142f4af9"
      },
      "execution_count": 155,
      "outputs": [
        {
          "output_type": "stream",
          "name": "stderr",
          "text": [
            "/usr/local/lib/python3.10/dist-packages/altair/utils/core.py:384: FutureWarning: the convert_dtype parameter is deprecated and will be removed in a future version.  Do ``ser.astype(object).apply()`` instead if you want ``convert_dtype=False``.\n",
            "  col = df[col_name].apply(to_list_if_array, convert_dtype=False)\n"
          ]
        },
        {
          "output_type": "execute_result",
          "data": {
            "text/html": [
              "\n",
              "<div id=\"altair-viz-ff65f09934c745b29525f62198835374\"></div>\n",
              "<script type=\"text/javascript\">\n",
              "  var VEGA_DEBUG = (typeof VEGA_DEBUG == \"undefined\") ? {} : VEGA_DEBUG;\n",
              "  (function(spec, embedOpt){\n",
              "    let outputDiv = document.currentScript.previousElementSibling;\n",
              "    if (outputDiv.id !== \"altair-viz-ff65f09934c745b29525f62198835374\") {\n",
              "      outputDiv = document.getElementById(\"altair-viz-ff65f09934c745b29525f62198835374\");\n",
              "    }\n",
              "    const paths = {\n",
              "      \"vega\": \"https://cdn.jsdelivr.net/npm//vega@5?noext\",\n",
              "      \"vega-lib\": \"https://cdn.jsdelivr.net/npm//vega-lib?noext\",\n",
              "      \"vega-lite\": \"https://cdn.jsdelivr.net/npm//vega-lite@4.17.0?noext\",\n",
              "      \"vega-embed\": \"https://cdn.jsdelivr.net/npm//vega-embed@6?noext\",\n",
              "    };\n",
              "\n",
              "    function maybeLoadScript(lib, version) {\n",
              "      var key = `${lib.replace(\"-\", \"\")}_version`;\n",
              "      return (VEGA_DEBUG[key] == version) ?\n",
              "        Promise.resolve(paths[lib]) :\n",
              "        new Promise(function(resolve, reject) {\n",
              "          var s = document.createElement('script');\n",
              "          document.getElementsByTagName(\"head\")[0].appendChild(s);\n",
              "          s.async = true;\n",
              "          s.onload = () => {\n",
              "            VEGA_DEBUG[key] = version;\n",
              "            return resolve(paths[lib]);\n",
              "          };\n",
              "          s.onerror = () => reject(`Error loading script: ${paths[lib]}`);\n",
              "          s.src = paths[lib];\n",
              "        });\n",
              "    }\n",
              "\n",
              "    function showError(err) {\n",
              "      outputDiv.innerHTML = `<div class=\"error\" style=\"color:red;\">${err}</div>`;\n",
              "      throw err;\n",
              "    }\n",
              "\n",
              "    function displayChart(vegaEmbed) {\n",
              "      vegaEmbed(outputDiv, spec, embedOpt)\n",
              "        .catch(err => showError(`Javascript Error: ${err.message}<br>This usually means there's a typo in your chart specification. See the javascript console for the full traceback.`));\n",
              "    }\n",
              "\n",
              "    if(typeof define === \"function\" && define.amd) {\n",
              "      requirejs.config({paths});\n",
              "      require([\"vega-embed\"], displayChart, err => showError(`Error loading script: ${err.message}`));\n",
              "    } else {\n",
              "      maybeLoadScript(\"vega\", \"5\")\n",
              "        .then(() => maybeLoadScript(\"vega-lite\", \"4.17.0\"))\n",
              "        .then(() => maybeLoadScript(\"vega-embed\", \"6\"))\n",
              "        .catch(showError)\n",
              "        .then(() => displayChart(vegaEmbed));\n",
              "    }\n",
              "  })({\"config\": {\"view\": {\"continuousWidth\": 400, \"continuousHeight\": 300, \"stroke\": \"white\"}}, \"data\": {\"name\": \"data-5c0e9eebbc3d679b8afad31afecc248b\"}, \"mark\": {\"type\": \"area\", \"opacity\": 0.7}, \"encoding\": {\"color\": {\"field\": \"BMI_clean\", \"scale\": {\"scheme\": \"magma\"}, \"sort\": [\"Underweight\", \"Normal\", \"Overweight\", \"Obese\", \"Missing\"], \"title\": \"BMI Categories\", \"type\": \"nominal\"}, \"order\": {\"field\": \"custom_order\", \"sort\": \"ascending\", \"type\": \"quantitative\"}, \"tooltip\": [{\"field\": \"REF_DATE\", \"title\": \"Year\", \"type\": \"nominal\"}, {\"field\": \"VALUE\", \"title\": \"Value\", \"type\": \"quantitative\"}], \"x\": {\"axis\": {\"labelAngle\": 0}, \"field\": \"REF_DATE\", \"title\": \"Year\", \"type\": \"nominal\"}, \"y\": {\"field\": \"VALUE\", \"scale\": {\"domain\": [0, 100]}, \"stack\": true, \"title\": \"Proportion of Canadians in BMI category (%)\", \"type\": \"quantitative\"}}, \"height\": 350, \"width\": 700, \"$schema\": \"https://vega.github.io/schema/vega-lite/v4.17.0.json\", \"datasets\": {\"data-5c0e9eebbc3d679b8afad31afecc248b\": [{\"REF_DATE\": \"1994\", \"BMI_clean\": \"Underweight\", \"VALUE\": 2.7, \"custom_order\": 0}, {\"REF_DATE\": \"1994\", \"BMI_clean\": \"Normal\", \"VALUE\": 48.5, \"custom_order\": 1}, {\"REF_DATE\": \"1994\", \"BMI_clean\": \"Overweight\", \"VALUE\": 34.7, \"custom_order\": 2}, {\"REF_DATE\": \"1994\", \"BMI_clean\": \"Obese\", \"VALUE\": 12.7, \"custom_order\": 3}, {\"REF_DATE\": \"1994\", \"BMI_clean\": \"Missing\", \"VALUE\": 1.3, \"custom_order\": 4}, {\"REF_DATE\": \"1996\", \"BMI_clean\": \"Underweight\", \"VALUE\": 2.3, \"custom_order\": 0}, {\"REF_DATE\": \"1996\", \"BMI_clean\": \"Normal\", \"VALUE\": 48.3, \"custom_order\": 1}, {\"REF_DATE\": \"1996\", \"BMI_clean\": \"Overweight\", \"VALUE\": 34.3, \"custom_order\": 2}, {\"REF_DATE\": \"1996\", \"BMI_clean\": \"Obese\", \"VALUE\": 11.9, \"custom_order\": 3}, {\"REF_DATE\": \"1996\", \"BMI_clean\": \"Missing\", \"VALUE\": 3.1, \"custom_order\": 4}, {\"REF_DATE\": \"1998\", \"BMI_clean\": \"Underweight\", \"VALUE\": 2.3, \"custom_order\": 0}, {\"REF_DATE\": \"1998\", \"BMI_clean\": \"Normal\", \"VALUE\": 47.1, \"custom_order\": 1}, {\"REF_DATE\": \"1998\", \"BMI_clean\": \"Overweight\", \"VALUE\": 35.1, \"custom_order\": 2}, {\"REF_DATE\": \"1998\", \"BMI_clean\": \"Obese\", \"VALUE\": 14.1, \"custom_order\": 3}, {\"REF_DATE\": \"1998\", \"BMI_clean\": \"Missing\", \"VALUE\": 1.4, \"custom_order\": 4}, {\"REF_DATE\": \"2000\", \"BMI_clean\": \"Underweight\", \"VALUE\": 2.9, \"custom_order\": 0}, {\"REF_DATE\": \"2000\", \"BMI_clean\": \"Normal\", \"VALUE\": 48.4, \"custom_order\": 1}, {\"REF_DATE\": \"2000\", \"BMI_clean\": \"Overweight\", \"VALUE\": 32.4, \"custom_order\": 2}, {\"REF_DATE\": \"2000\", \"BMI_clean\": \"Obese\", \"VALUE\": 14.5, \"custom_order\": 3}, {\"REF_DATE\": \"2000\", \"BMI_clean\": \"Missing\", \"VALUE\": 1.8, \"custom_order\": 4}, {\"REF_DATE\": \"2003\", \"BMI_clean\": \"Underweight\", \"VALUE\": 2.6, \"custom_order\": 0}, {\"REF_DATE\": \"2003\", \"BMI_clean\": \"Normal\", \"VALUE\": 46.7, \"custom_order\": 1}, {\"REF_DATE\": \"2003\", \"BMI_clean\": \"Overweight\", \"VALUE\": 33.3, \"custom_order\": 2}, {\"REF_DATE\": \"2003\", \"BMI_clean\": \"Obese\", \"VALUE\": 14.9, \"custom_order\": 3}, {\"REF_DATE\": \"2003\", \"BMI_clean\": \"Missing\", \"VALUE\": 2.5, \"custom_order\": 4}, {\"REF_DATE\": \"2005\", \"BMI_clean\": \"Underweight\", \"VALUE\": 2.7, \"custom_order\": 0}, {\"REF_DATE\": \"2005\", \"BMI_clean\": \"Normal\", \"VALUE\": 46.2, \"custom_order\": 1}, {\"REF_DATE\": \"2005\", \"BMI_clean\": \"Overweight\", \"VALUE\": 33.4, \"custom_order\": 2}, {\"REF_DATE\": \"2005\", \"BMI_clean\": \"Obese\", \"VALUE\": 15.5, \"custom_order\": 3}, {\"REF_DATE\": \"2005\", \"BMI_clean\": \"Missing\", \"VALUE\": 2.2, \"custom_order\": 4}, {\"REF_DATE\": \"2007\", \"BMI_clean\": \"Underweight\", \"VALUE\": 2.6, \"custom_order\": 0}, {\"REF_DATE\": \"2007\", \"BMI_clean\": \"Normal\", \"VALUE\": 44.4, \"custom_order\": 1}, {\"REF_DATE\": \"2007\", \"BMI_clean\": \"Overweight\", \"VALUE\": 32.4, \"custom_order\": 2}, {\"REF_DATE\": \"2007\", \"BMI_clean\": \"Obese\", \"VALUE\": 16.0, \"custom_order\": 3}, {\"REF_DATE\": \"2007\", \"BMI_clean\": \"Missing\", \"VALUE\": 4.6, \"custom_order\": 4}]}}, {\"mode\": \"vega-lite\"});\n",
              "</script>"
            ],
            "text/plain": [
              "alt.Chart(...)"
            ]
          },
          "metadata": {},
          "execution_count": 155
        }
      ]
    },
    {
      "cell_type": "code",
      "source": [],
      "metadata": {
        "id": "YQKa119OS7wT"
      },
      "execution_count": null,
      "outputs": []
    },
    {
      "cell_type": "code",
      "source": [
        "\n"
      ],
      "metadata": {
        "colab": {
          "base_uri": "https://localhost:8080/"
        },
        "id": "U4Xw_PSuRj90",
        "outputId": "bdd60d59-a475-49dd-ec32-52e97cef96a9"
      },
      "execution_count": 151,
      "outputs": [
        {
          "output_type": "stream",
          "name": "stderr",
          "text": [
            "<ipython-input-151-9a155b5a679e>:1: FutureWarning: The behavior of Series.replace (and DataFrame.replace) with CategoricalDtype is deprecated. In a future version, replace will only be used for cases that preserve the categories. To change the categories, use ser.cat.rename_categories instead.\n",
            "  data['BMI_clean'] = data['BMI_clean'].replace({'Normal-weight': 'Normal'})\n"
          ]
        }
      ]
    },
    {
      "cell_type": "code",
      "source": [
        "BMI_areachart.save('bmi_chart.html')\n",
        "\n",
        "files.download('bmi_chart.html')\n"
      ],
      "metadata": {
        "colab": {
          "base_uri": "https://localhost:8080/",
          "height": 73
        },
        "id": "whnO7LA6-5S7",
        "outputId": "a437a508-b0e7-485c-c1f1-e03ba86831b1"
      },
      "execution_count": 156,
      "outputs": [
        {
          "output_type": "stream",
          "name": "stderr",
          "text": [
            "/usr/local/lib/python3.10/dist-packages/altair/utils/core.py:384: FutureWarning: the convert_dtype parameter is deprecated and will be removed in a future version.  Do ``ser.astype(object).apply()`` instead if you want ``convert_dtype=False``.\n",
            "  col = df[col_name].apply(to_list_if_array, convert_dtype=False)\n"
          ]
        },
        {
          "output_type": "display_data",
          "data": {
            "text/plain": [
              "<IPython.core.display.Javascript object>"
            ],
            "application/javascript": [
              "\n",
              "    async function download(id, filename, size) {\n",
              "      if (!google.colab.kernel.accessAllowed) {\n",
              "        return;\n",
              "      }\n",
              "      const div = document.createElement('div');\n",
              "      const label = document.createElement('label');\n",
              "      label.textContent = `Downloading \"${filename}\": `;\n",
              "      div.appendChild(label);\n",
              "      const progress = document.createElement('progress');\n",
              "      progress.max = size;\n",
              "      div.appendChild(progress);\n",
              "      document.body.appendChild(div);\n",
              "\n",
              "      const buffers = [];\n",
              "      let downloaded = 0;\n",
              "\n",
              "      const channel = await google.colab.kernel.comms.open(id);\n",
              "      // Send a message to notify the kernel that we're ready.\n",
              "      channel.send({})\n",
              "\n",
              "      for await (const message of channel.messages) {\n",
              "        // Send a message to notify the kernel that we're ready.\n",
              "        channel.send({})\n",
              "        if (message.buffers) {\n",
              "          for (const buffer of message.buffers) {\n",
              "            buffers.push(buffer);\n",
              "            downloaded += buffer.byteLength;\n",
              "            progress.value = downloaded;\n",
              "          }\n",
              "        }\n",
              "      }\n",
              "      const blob = new Blob(buffers, {type: 'application/binary'});\n",
              "      const a = document.createElement('a');\n",
              "      a.href = window.URL.createObjectURL(blob);\n",
              "      a.download = filename;\n",
              "      div.appendChild(a);\n",
              "      a.click();\n",
              "      div.remove();\n",
              "    }\n",
              "  "
            ]
          },
          "metadata": {}
        },
        {
          "output_type": "display_data",
          "data": {
            "text/plain": [
              "<IPython.core.display.Javascript object>"
            ],
            "application/javascript": [
              "download(\"download_e9d405d8-1c24-4924-9db6-2b31212f8481\", \"bmi_chart.html\", 4927)"
            ]
          },
          "metadata": {}
        }
      ]
    },
    {
      "cell_type": "code",
      "source": [
        "\n"
      ],
      "metadata": {
        "colab": {
          "base_uri": "https://localhost:8080/",
          "height": 652
        },
        "id": "-TplJ47cS9XD",
        "outputId": "931d102f-b529-401b-cb36-7ccec166f93c"
      },
      "execution_count": 113,
      "outputs": [
        {
          "output_type": "stream",
          "name": "stdout",
          "text": [
            "Unique BMI_clean values before setting categories:\n",
            "['Underweight' 'Normal' 'Overweight' 'Missing']\n",
            "DataFrame after updating BMI_clean:\n",
            "  REF_DATE    BMI_clean  VALUE\n",
            "0     2020  Underweight     30\n",
            "1     2020       Normal     15\n",
            "2     2021  Underweight      5\n",
            "3     2021       Normal     25\n",
            "4     2022   Overweight     20\n",
            "5     2022      Missing     10\n"
          ]
        },
        {
          "output_type": "stream",
          "name": "stderr",
          "text": [
            "/usr/local/lib/python3.10/dist-packages/altair/utils/core.py:384: FutureWarning: the convert_dtype parameter is deprecated and will be removed in a future version.  Do ``ser.astype(object).apply()`` instead if you want ``convert_dtype=False``.\n",
            "  col = df[col_name].apply(to_list_if_array, convert_dtype=False)\n"
          ]
        },
        {
          "output_type": "execute_result",
          "data": {
            "text/html": [
              "\n",
              "<div id=\"altair-viz-33b77ed76007465cb870d8b6da3e8983\"></div>\n",
              "<script type=\"text/javascript\">\n",
              "  var VEGA_DEBUG = (typeof VEGA_DEBUG == \"undefined\") ? {} : VEGA_DEBUG;\n",
              "  (function(spec, embedOpt){\n",
              "    let outputDiv = document.currentScript.previousElementSibling;\n",
              "    if (outputDiv.id !== \"altair-viz-33b77ed76007465cb870d8b6da3e8983\") {\n",
              "      outputDiv = document.getElementById(\"altair-viz-33b77ed76007465cb870d8b6da3e8983\");\n",
              "    }\n",
              "    const paths = {\n",
              "      \"vega\": \"https://cdn.jsdelivr.net/npm//vega@5?noext\",\n",
              "      \"vega-lib\": \"https://cdn.jsdelivr.net/npm//vega-lib?noext\",\n",
              "      \"vega-lite\": \"https://cdn.jsdelivr.net/npm//vega-lite@4.17.0?noext\",\n",
              "      \"vega-embed\": \"https://cdn.jsdelivr.net/npm//vega-embed@6?noext\",\n",
              "    };\n",
              "\n",
              "    function maybeLoadScript(lib, version) {\n",
              "      var key = `${lib.replace(\"-\", \"\")}_version`;\n",
              "      return (VEGA_DEBUG[key] == version) ?\n",
              "        Promise.resolve(paths[lib]) :\n",
              "        new Promise(function(resolve, reject) {\n",
              "          var s = document.createElement('script');\n",
              "          document.getElementsByTagName(\"head\")[0].appendChild(s);\n",
              "          s.async = true;\n",
              "          s.onload = () => {\n",
              "            VEGA_DEBUG[key] = version;\n",
              "            return resolve(paths[lib]);\n",
              "          };\n",
              "          s.onerror = () => reject(`Error loading script: ${paths[lib]}`);\n",
              "          s.src = paths[lib];\n",
              "        });\n",
              "    }\n",
              "\n",
              "    function showError(err) {\n",
              "      outputDiv.innerHTML = `<div class=\"error\" style=\"color:red;\">${err}</div>`;\n",
              "      throw err;\n",
              "    }\n",
              "\n",
              "    function displayChart(vegaEmbed) {\n",
              "      vegaEmbed(outputDiv, spec, embedOpt)\n",
              "        .catch(err => showError(`Javascript Error: ${err.message}<br>This usually means there's a typo in your chart specification. See the javascript console for the full traceback.`));\n",
              "    }\n",
              "\n",
              "    if(typeof define === \"function\" && define.amd) {\n",
              "      requirejs.config({paths});\n",
              "      require([\"vega-embed\"], displayChart, err => showError(`Error loading script: ${err.message}`));\n",
              "    } else {\n",
              "      maybeLoadScript(\"vega\", \"5\")\n",
              "        .then(() => maybeLoadScript(\"vega-lite\", \"4.17.0\"))\n",
              "        .then(() => maybeLoadScript(\"vega-embed\", \"6\"))\n",
              "        .catch(showError)\n",
              "        .then(() => displayChart(vegaEmbed));\n",
              "    }\n",
              "  })({\"config\": {\"view\": {\"continuousWidth\": 400, \"continuousHeight\": 300, \"stroke\": \"white\"}}, \"data\": {\"name\": \"data-4c0301b24a43d6590644545107c08f30\"}, \"mark\": {\"type\": \"area\", \"opacity\": 0.7}, \"encoding\": {\"color\": {\"field\": \"BMI_clean\", \"scale\": {\"scheme\": \"magma\"}, \"sort\": [\"Underweight\", \"Normal\", \"Overweight\", \"Obese\", \"Missing\"], \"type\": \"nominal\"}, \"tooltip\": [{\"field\": \"REF_DATE\", \"title\": \"Year\", \"type\": \"nominal\"}, {\"field\": \"VALUE\", \"title\": \"Value\", \"type\": \"quantitative\"}], \"x\": {\"axis\": {\"labelAngle\": 0}, \"field\": \"REF_DATE\", \"title\": \"Year\", \"type\": \"nominal\"}, \"y\": {\"field\": \"VALUE\", \"scale\": {\"domain\": [0, 100]}, \"stack\": true, \"title\": \"Proportion in BMI category\", \"type\": \"quantitative\"}}, \"height\": 350, \"width\": 700, \"$schema\": \"https://vega.github.io/schema/vega-lite/v4.17.0.json\", \"datasets\": {\"data-4c0301b24a43d6590644545107c08f30\": [{\"REF_DATE\": \"2020\", \"BMI_clean\": \"Underweight\", \"VALUE\": 30}, {\"REF_DATE\": \"2020\", \"BMI_clean\": \"Normal\", \"VALUE\": 15}, {\"REF_DATE\": \"2021\", \"BMI_clean\": \"Underweight\", \"VALUE\": 5}, {\"REF_DATE\": \"2021\", \"BMI_clean\": \"Normal\", \"VALUE\": 25}, {\"REF_DATE\": \"2022\", \"BMI_clean\": \"Overweight\", \"VALUE\": 20}, {\"REF_DATE\": \"2022\", \"BMI_clean\": \"Missing\", \"VALUE\": 10}]}}, {\"mode\": \"vega-lite\"});\n",
              "</script>"
            ],
            "text/plain": [
              "alt.Chart(...)"
            ]
          },
          "metadata": {},
          "execution_count": 113
        }
      ]
    }
  ]
}